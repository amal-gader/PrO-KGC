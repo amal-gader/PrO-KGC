{
 "cells": [
  {
   "cell_type": "code",
   "execution_count": 1,
   "metadata": {},
   "outputs": [
    {
     "name": "stdout",
     "output_type": "stream",
     "text": [
      "Error parsing line:  - invalid syntax (<unknown>, line 0)\n"
     ]
    }
   ],
   "source": [
    "from dataset import data_preprocess\n",
    "\n",
    "\n",
    "with_ctxt = True\n",
    "with_desc = True\n",
    "patterns_file = f\"lookup_files/patterns_codex-m.txt\"\n",
    "dataset = 'codex-m'\n",
    "    \n",
    "   \n",
    "df_train, df_valid = data_preprocess(dataset,'train', with_desc, with_ctxt, patterns_file)"
   ]
  },
  {
   "cell_type": "code",
   "execution_count": 6,
   "metadata": {},
   "outputs": [
    {
     "data": {
      "text/plain": [
       "array(['cast member', 'member of', 'occupation', 'country of citizenship',\n",
       "       'educated at', 'ethnic group', 'narrative location',\n",
       "       'diplomatic relation', 'cause of death', 'country', 'genre',\n",
       "       'languages spoken, written, or signed', 'headquarters location',\n",
       "       'place of birth', 'instrument', 'employer', 'movement',\n",
       "       'record label', 'country of origin', 'continent',\n",
       "       'member of political party', 'residence', 'place of death',\n",
       "       'influenced by', 'place of burial', 'religion', 'sport',\n",
       "       'field of work', 'director', 'sibling', 'child',\n",
       "       'unmarried partner', 'medical condition', 'spouse',\n",
       "       'language of work or name', 'official language', 'founded by',\n",
       "       'located in the administrative terroritorial entity',\n",
       "       'parent organization', 'part of', 'location of formation',\n",
       "       'time period', 'named after', 'author', 'industry', 'uses',\n",
       "       'practiced by', 'member of sports team', 'airline hub',\n",
       "       'product or material produced', 'symptoms'], dtype=object)"
      ]
     },
     "execution_count": 6,
     "metadata": {},
     "output_type": "execute_result"
    }
   ],
   "source": [
    "df_train['relation'].unique()"
   ]
  },
  {
   "cell_type": "code",
   "execution_count": null,
   "metadata": {},
   "outputs": [],
   "source": [
    "hierarchical_relations = ['part of', 'parent organization']\n",
    "transversal_relations = ['spouse', 'sibling']\n",
    "multi_valued_relations = ['cast member', 'member of', 'influenced by', \n",
    "                          'diplomatic relation', 'languages spoken, written, or signed']\n",
    "single_valued_relations = ['ethnic group', 'country of origin', \n",
    "                           'continent', 'religion', 'official language']\n",
    "commonsense_relations = ['symptoms']"
   ]
  }
 ],
 "metadata": {
  "kernelspec": {
   "display_name": "venv",
   "language": "python",
   "name": "python3"
  },
  "language_info": {
   "codemirror_mode": {
    "name": "ipython",
    "version": 3
   },
   "file_extension": ".py",
   "mimetype": "text/x-python",
   "name": "python",
   "nbconvert_exporter": "python",
   "pygments_lexer": "ipython3",
   "version": "3.12.1"
  }
 },
 "nbformat": 4,
 "nbformat_minor": 2
}
